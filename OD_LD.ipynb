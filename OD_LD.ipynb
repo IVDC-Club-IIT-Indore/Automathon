{
  "nbformat": 4,
  "nbformat_minor": 0,
  "metadata": {
    "colab": {
      "name": "OD_LD.ipynb",
      "provenance": []
    },
    "kernelspec": {
      "name": "python3",
      "display_name": "Python 3"
    },
    "language_info": {
      "name": "python"
    }
  },
  "cells": [
    {
      "cell_type": "markdown",
      "source": [
        "**Object Detection(Cars and Bikes)**"
      ],
      "metadata": {
        "id": "9kQl0o_oEMIB"
      }
    },
    {
      "cell_type": "code",
      "source": [
        "!nvidia-smi    # check the gpu access after turning on gpu "
      ],
      "metadata": {
        "id": "_7eu4o31EWpA"
      },
      "execution_count": null,
      "outputs": []
    },
    {
      "cell_type": "code",
      "execution_count": null,
      "metadata": {
        "id": "Nz3b6iPWD_TA"
      },
      "outputs": [],
      "source": [
        "!git clone 'myrepo'# it will be in Automathon"
      ]
    },
    {
      "cell_type": "code",
      "source": [
        "%cd Automathon\n",
        "!pip install -r yolov5/requirements.txt  # install dependencies for  object detection part"
      ],
      "metadata": {
        "id": "1ak-AoB2EN2C"
      },
      "execution_count": null,
      "outputs": []
    },
    {
      "cell_type": "code",
      "source": [
        "%cd yolov5  #go in yolov5 directory as detect.py file is present in it"
      ],
      "metadata": {
        "id": "_YnRqfr4HGUn"
      },
      "execution_count": null,
      "outputs": []
    },
    {
      "cell_type": "code",
      "execution_count": null,
      "metadata": {
        "id": "G_-fh7SwAVtG"
      },
      "outputs": [],
      "source": [
        "!python detect.py --source /content/Automathon/Automathon-challenge-CV.mp4"
      ]
    },
    {
      "cell_type": "code",
      "source": [
        "#Incase you want to download output from object detection\n",
        "#from google.colab import files #changing the name mentioned earlier & here in the \n",
        "                               #Directory just to differentiate it from original file\n",
        " #                              \n",
        "#files.download('/content/yolov5/runs/detect/exp/Automathon-challenge-CV.mp4')"
      ],
      "metadata": {
        "id": "8ohM9j6uGKS4"
      },
      "execution_count": null,
      "outputs": []
    },
    {
      "cell_type": "code",
      "source": [
        ""
      ],
      "metadata": {
        "id": "q05ly6a1GBOU"
      },
      "execution_count": null,
      "outputs": []
    },
    {
      "cell_type": "markdown",
      "source": [
        "**Lane Detection**"
      ],
      "metadata": {
        "id": "BwE73h6CG3Wh"
      }
    },
    {
      "cell_type": "code",
      "source": [
        ""
      ],
      "metadata": {
        "id": "9DVzL6xhJLSa"
      },
      "execution_count": null,
      "outputs": []
    },
    {
      "cell_type": "code",
      "source": [
        "%cd /content/Automathon/Advanced-Lane-Lines #coming to out lane detection directory"
      ],
      "metadata": {
        "id": "P_2ZbdnPJmXM"
      },
      "execution_count": null,
      "outputs": []
    },
    {
      "cell_type": "code",
      "source": [
        "import numpy as np\n",
        "import matplotlib.image as mpimg\n",
        "import cv2\n",
        "from docopt import docopt\n",
        "from IPython.display import HTML\n",
        "from IPython.core.display import Video\n",
        "from moviepy.editor import VideoFileClip\n",
        "from CameraCalibration import CameraCalibration\n",
        "from Thresholding import *\n",
        "from PerspectiveTransformation import *\n",
        "from LaneLines import *\n",
        "\n",
        "class Finhttps://viso.ai/deep-learning/object-tracking/dLaneLines:\n",
        "    def __init__(self):\n",
        "        \"\"\" Init Application\"\"\"\n",
        "        self.calibration = CameraCalibration('camera_cal', 9, 6)\n",
        "        self.thresholding = Thresholding()\n",
        "        self.transform = PerspectiveTransformation()\n",
        "        self.lanelines = LaneLines()\n",
        "\n",
        "    def forward(self, img):\n",
        "        out_img = np.copy(img)\n",
        "        img = self.calibration.undistort(img)\n",
        "        img = self.transform.forward(img)\n",
        "        img = self.thresholding.forward(img)\n",
        "        img = self.lanelines.forward(img)\n",
        "        img = self.transform.backward(img)\n",
        "\n",
        "        out_img = cv2.addWeighted(out_img, 1, img, 0.6, 0)\n",
        "        out_img = self.lanelines.plot(out_img)\n",
        "        return out_img\n",
        "\n",
        "    def process_image(self, input_path, output_path):\n",
        "        img = mpimg.imread(input_path)\n",
        "        out_img = self.forward(img)\n",
        "        mpimg.imsave(output_path, out_img)\n",
        "\n",
        "    def process_video(self, input_path, output_path):\n",
        "        clip = VideoFileClip(input_path)\n",
        "        out_clip = clip.fl_image(self.forward)\n",
        "        out_clip.write_videofile(output_path, audio=False)\n",
        "\n",
        "def main():\n",
        "    findLaneLines = FindLaneLines()\n",
        "    findLaneLines.process_video(\"Automathon-challenge-CV.mp4\",\"OD_LD_output.mp4\")\n",
        "\n",
        "if __name__ == \"__main__\":\n",
        "    main()"
      ],
      "metadata": {
        "id": "h1YWFJYiGBJ1"
      },
      "execution_count": null,
      "outputs": []
    },
    {
      "cell_type": "code",
      "source": [
        "#So here is the final OD_LD_output\n",
        "# /content/Automathon/Advanced-Lane-Lines/OD_LD_output.mp4"
      ],
      "metadata": {
        "id": "2JQ0lnwiG23A"
      },
      "execution_count": null,
      "outputs": []
    },
    {
      "cell_type": "code",
      "source": [
        ""
      ],
      "metadata": {
        "id": "cvowk9ZAGBE3"
      },
      "execution_count": null,
      "outputs": []
    },
    {
      "cell_type": "code",
      "source": [
        ""
      ],
      "metadata": {
        "id": "wM-ng-GuGBBx"
      },
      "execution_count": null,
      "outputs": []
    }
  ]
}