{
  "nbformat": 4,
  "nbformat_minor": 0,
  "metadata": {
    "colab": {
      "name": "counting1.ipynb",
      "provenance": []
    },
    "kernelspec": {
      "name": "python3",
      "display_name": "Python 3"
    },
    "language_info": {
      "name": "python"
    }
  },
  "cells": [
    {
      "cell_type": "code",
      "execution_count": 1,
      "metadata": {
        "id": "fuOdLzIjL8xC",
        "colab": {
          "base_uri": "https://localhost:8080/"
        },
        "outputId": "7a8b9f1f-d0c0-45aa-d4be-d2b4482c5ed6"
      },
      "outputs": [
        {
          "output_type": "stream",
          "name": "stdout",
          "text": [
            "Cloning into 'car-counting-and-speed-estimation-yolo-sort-python'...\n",
            "remote: Enumerating objects: 62, done.\u001b[K\n",
            "remote: Total 62 (delta 0), reused 0 (delta 0), pack-reused 62\u001b[K\n",
            "Unpacking objects: 100% (62/62), done.\n"
          ]
        }
      ],
      "source": [
        "!git clone https://github.com/bamwani/car-counting-and-speed-estimation-yolo-sort-python "
      ]
    },
    {
      "cell_type": "code",
      "source": [
        "cd car-counting-and-speed-estimation-yolo-sort-python/\n"
      ],
      "metadata": {
        "colab": {
          "base_uri": "https://localhost:8080/"
        },
        "id": "XAX4XuJ4MSZZ",
        "outputId": "4090f5da-a4f5-41ea-810f-7d0c1e4a5bf6"
      },
      "execution_count": 2,
      "outputs": [
        {
          "output_type": "stream",
          "name": "stdout",
          "text": [
            "/content/car-counting-and-speed-estimation-yolo-sort-python\n"
          ]
        }
      ]
    },
    {
      "cell_type": "code",
      "source": [
        "!pip3 install -r requirements.txt"
      ],
      "metadata": {
        "colab": {
          "base_uri": "https://localhost:8080/"
        },
        "id": "uoUXvge_MSXe",
        "outputId": "4354f952-7b30-44ce-dda3-66ed2966972e"
      },
      "execution_count": 3,
      "outputs": [
        {
          "output_type": "stream",
          "name": "stdout",
          "text": [
            "Looking in indexes: https://pypi.org/simple, https://us-python.pkg.dev/colab-wheels/public/simple/\n",
            "Requirement already satisfied: scipy in /usr/local/lib/python3.7/dist-packages (from -r requirements.txt (line 1)) (1.4.1)\n",
            "Collecting filterpy==1.4.1\n",
            "  Downloading filterpy-1.4.1.zip (169 kB)\n",
            "\u001b[K     |████████████████████████████████| 169 kB 7.3 MB/s \n",
            "\u001b[?25hCollecting numba==0.38.1\n",
            "  Downloading numba-0.38.1.tar.gz (1.4 MB)\n",
            "\u001b[K     |████████████████████████████████| 1.4 MB 42.2 MB/s \n",
            "\u001b[?25hCollecting scikit-image==0.14.0\n",
            "  Downloading scikit_image-0.14.0-cp37-cp37m-manylinux1_x86_64.whl (25.3 MB)\n",
            "\u001b[K     |████████████████████████████████| 25.3 MB 1.5 MB/s \n",
            "\u001b[?25hCollecting scikit-learn==0.19.1\n",
            "  Downloading scikit-learn-0.19.1.tar.gz (9.5 MB)\n",
            "\u001b[K     |████████████████████████████████| 9.5 MB 22.5 MB/s \n",
            "\u001b[?25hRequirement already satisfied: imutils in /usr/local/lib/python3.7/dist-packages (from -r requirements.txt (line 6)) (0.5.4)\n",
            "Requirement already satisfied: numpy in /usr/local/lib/python3.7/dist-packages (from -r requirements.txt (line 7)) (1.21.6)\n",
            "Requirement already satisfied: matplotlib in /usr/local/lib/python3.7/dist-packages (from filterpy==1.4.1->-r requirements.txt (line 2)) (3.2.2)\n",
            "Requirement already satisfied: llvmlite>=0.23.0dev0 in /usr/local/lib/python3.7/dist-packages (from numba==0.38.1->-r requirements.txt (line 3)) (0.34.0)\n",
            "Requirement already satisfied: PyWavelets>=0.4.0 in /usr/local/lib/python3.7/dist-packages (from scikit-image==0.14.0->-r requirements.txt (line 4)) (1.3.0)\n",
            "Requirement already satisfied: networkx>=1.8 in /usr/local/lib/python3.7/dist-packages (from scikit-image==0.14.0->-r requirements.txt (line 4)) (2.6.3)\n",
            "Requirement already satisfied: six>=1.10.0 in /usr/local/lib/python3.7/dist-packages (from scikit-image==0.14.0->-r requirements.txt (line 4)) (1.15.0)\n",
            "Requirement already satisfied: dask[array]>=0.9.0 in /usr/local/lib/python3.7/dist-packages (from scikit-image==0.14.0->-r requirements.txt (line 4)) (2.12.0)\n",
            "Requirement already satisfied: pillow>=4.3.0 in /usr/local/lib/python3.7/dist-packages (from scikit-image==0.14.0->-r requirements.txt (line 4)) (7.1.2)\n",
            "Requirement already satisfied: cloudpickle>=0.2.1 in /usr/local/lib/python3.7/dist-packages (from scikit-image==0.14.0->-r requirements.txt (line 4)) (1.3.0)\n",
            "Requirement already satisfied: toolz>=0.7.3 in /usr/local/lib/python3.7/dist-packages (from dask[array]>=0.9.0->scikit-image==0.14.0->-r requirements.txt (line 4)) (0.11.2)\n",
            "Requirement already satisfied: kiwisolver>=1.0.1 in /usr/local/lib/python3.7/dist-packages (from matplotlib->filterpy==1.4.1->-r requirements.txt (line 2)) (1.4.3)\n",
            "Requirement already satisfied: python-dateutil>=2.1 in /usr/local/lib/python3.7/dist-packages (from matplotlib->filterpy==1.4.1->-r requirements.txt (line 2)) (2.8.2)\n",
            "Requirement already satisfied: cycler>=0.10 in /usr/local/lib/python3.7/dist-packages (from matplotlib->filterpy==1.4.1->-r requirements.txt (line 2)) (0.11.0)\n",
            "Requirement already satisfied: pyparsing!=2.0.4,!=2.1.2,!=2.1.6,>=2.0.1 in /usr/local/lib/python3.7/dist-packages (from matplotlib->filterpy==1.4.1->-r requirements.txt (line 2)) (3.0.9)\n",
            "Requirement already satisfied: typing-extensions in /usr/local/lib/python3.7/dist-packages (from kiwisolver>=1.0.1->matplotlib->filterpy==1.4.1->-r requirements.txt (line 2)) (4.1.1)\n",
            "Building wheels for collected packages: filterpy, numba, scikit-learn\n",
            "  Building wheel for filterpy (setup.py) ... \u001b[?25l\u001b[?25hdone\n",
            "  Created wheel for filterpy: filename=filterpy-1.4.1-py3-none-any.whl size=103819 sha256=8a100b862b73c0d0ec31378cd69a21a88dc4ef77b821adc750c5e7e180391514\n",
            "  Stored in directory: /root/.cache/pip/wheels/b2/e6/52/3ff5d809892640b182fb48873997fd38da450e584ed92b7f4f\n",
            "  Building wheel for numba (setup.py) ... \u001b[?25lerror\n",
            "\u001b[31m  ERROR: Failed building wheel for numba\u001b[0m\n",
            "\u001b[?25h  Running setup.py clean for numba\n",
            "  Building wheel for scikit-learn (setup.py) ... \u001b[?25lerror\n",
            "\u001b[31m  ERROR: Failed building wheel for scikit-learn\u001b[0m\n",
            "\u001b[?25h  Running setup.py clean for scikit-learn\n",
            "Successfully built filterpy\n",
            "Failed to build numba scikit-learn\n",
            "Installing collected packages: scikit-learn, scikit-image, numba, filterpy\n",
            "  Attempting uninstall: scikit-learn\n",
            "    Found existing installation: scikit-learn 1.0.2\n",
            "    Uninstalling scikit-learn-1.0.2:\n",
            "      Successfully uninstalled scikit-learn-1.0.2\n",
            "    Running setup.py install for scikit-learn ... \u001b[?25l\u001b[?25herror\n",
            "  Rolling back uninstall of scikit-learn\n",
            "  Moving to /usr/local/lib/python3.7/dist-packages/scikit_learn-1.0.2.dist-info/\n",
            "   from /usr/local/lib/python3.7/dist-packages/~cikit_learn-1.0.2.dist-info\n",
            "  Moving to /usr/local/lib/python3.7/dist-packages/scikit_learn.libs/\n",
            "   from /usr/local/lib/python3.7/dist-packages/~cikit_learn.libs\n",
            "  Moving to /usr/local/lib/python3.7/dist-packages/sklearn/\n",
            "   from /usr/local/lib/python3.7/dist-packages/~klearn\n",
            "\u001b[31mERROR: Command errored out with exit status 1: /usr/bin/python3 -u -c 'import io, os, sys, setuptools, tokenize; sys.argv[0] = '\"'\"'/tmp/pip-install-z337pb2h/scikit-learn_b589082b437a4f8ca6ff76d04f78ea56/setup.py'\"'\"'; __file__='\"'\"'/tmp/pip-install-z337pb2h/scikit-learn_b589082b437a4f8ca6ff76d04f78ea56/setup.py'\"'\"';f = getattr(tokenize, '\"'\"'open'\"'\"', open)(__file__) if os.path.exists(__file__) else io.StringIO('\"'\"'from setuptools import setup; setup()'\"'\"');code = f.read().replace('\"'\"'\\r\\n'\"'\"', '\"'\"'\\n'\"'\"');f.close();exec(compile(code, __file__, '\"'\"'exec'\"'\"'))' install --record /tmp/pip-record-u1ip42ob/install-record.txt --single-version-externally-managed --compile --install-headers /usr/local/include/python3.7/scikit-learn Check the logs for full command output.\u001b[0m\n"
          ]
        }
      ]
    },
    {
      "cell_type": "code",
      "source": [
        "!wget https://pjreddie.com/media/files/yolov3.weights"
      ],
      "metadata": {
        "id": "0IO6PjanMSTn",
        "colab": {
          "base_uri": "https://localhost:8080/"
        },
        "outputId": "c6b83a5f-c628-4306-f5a4-429ca4d50b13"
      },
      "execution_count": 4,
      "outputs": [
        {
          "output_type": "stream",
          "name": "stdout",
          "text": [
            "--2022-06-22 16:46:02--  https://pjreddie.com/media/files/yolov3.weights\n",
            "Resolving pjreddie.com (pjreddie.com)... 128.208.4.108\n",
            "Connecting to pjreddie.com (pjreddie.com)|128.208.4.108|:443... connected.\n",
            "HTTP request sent, awaiting response... 200 OK\n",
            "Length: 248007048 (237M) [application/octet-stream]\n",
            "Saving to: ‘yolov3.weights’\n",
            "\n",
            "yolov3.weights      100%[===================>] 236.52M  74.6MB/s    in 3.4s    \n",
            "\n",
            "2022-06-22 16:46:05 (69.2 MB/s) - ‘yolov3.weights’ saved [248007048/248007048]\n",
            "\n"
          ]
        }
      ]
    },
    {
      "cell_type": "code",
      "source": [
        "!pwd"
      ],
      "metadata": {
        "colab": {
          "base_uri": "https://localhost:8080/"
        },
        "id": "E54W-lhjTwAY",
        "outputId": "741c3445-2f63-44f4-b0ac-1cd3efa40318"
      },
      "execution_count": 5,
      "outputs": [
        {
          "output_type": "stream",
          "name": "stdout",
          "text": [
            "/content/car-counting-and-speed-estimation-yolo-sort-python\n"
          ]
        }
      ]
    },
    {
      "cell_type": "code",
      "source": [
        ""
      ],
      "metadata": {
        "id": "DE3y_NYWT7AY"
      },
      "execution_count": null,
      "outputs": []
    },
    {
      "cell_type": "code",
      "source": [
        "%cd code_and_output"
      ],
      "metadata": {
        "colab": {
          "base_uri": "https://localhost:8080/"
        },
        "id": "GxnbOn5eT3uS",
        "outputId": "01103cac-09fe-47e5-c8b7-83a734f3bc45"
      },
      "execution_count": 6,
      "outputs": [
        {
          "output_type": "stream",
          "name": "stdout",
          "text": [
            "/content/car-counting-and-speed-estimation-yolo-sort-python/code_and_output\n"
          ]
        }
      ]
    },
    {
      "cell_type": "code",
      "source": [
        "!pip install filterpy==1.1.0"
      ],
      "metadata": {
        "colab": {
          "base_uri": "https://localhost:8080/"
        },
        "id": "0ra2PC1MWEqo",
        "outputId": "08c40333-9f9e-41d9-f830-b034663d0967"
      },
      "execution_count": 11,
      "outputs": [
        {
          "output_type": "stream",
          "name": "stdout",
          "text": [
            "Looking in indexes: https://pypi.org/simple, https://us-python.pkg.dev/colab-wheels/public/simple/\n",
            "Collecting filterpy==1.1.0\n",
            "  Downloading filterpy-1.1.0.tar.gz (63 kB)\n",
            "\u001b[K     |████████████████████████████████| 63 kB 1.6 MB/s \n",
            "\u001b[?25hRequirement already satisfied: numpy in /usr/local/lib/python3.7/dist-packages (from filterpy==1.1.0) (1.21.6)\n",
            "Requirement already satisfied: scipy in /usr/local/lib/python3.7/dist-packages (from filterpy==1.1.0) (1.4.1)\n",
            "Requirement already satisfied: matplotlib in /usr/local/lib/python3.7/dist-packages (from filterpy==1.1.0) (3.2.2)\n",
            "Requirement already satisfied: cycler>=0.10 in /usr/local/lib/python3.7/dist-packages (from matplotlib->filterpy==1.1.0) (0.11.0)\n",
            "Requirement already satisfied: python-dateutil>=2.1 in /usr/local/lib/python3.7/dist-packages (from matplotlib->filterpy==1.1.0) (2.8.2)\n",
            "Requirement already satisfied: kiwisolver>=1.0.1 in /usr/local/lib/python3.7/dist-packages (from matplotlib->filterpy==1.1.0) (1.4.3)\n",
            "Requirement already satisfied: pyparsing!=2.0.4,!=2.1.2,!=2.1.6,>=2.0.1 in /usr/local/lib/python3.7/dist-packages (from matplotlib->filterpy==1.1.0) (3.0.9)\n",
            "Requirement already satisfied: typing-extensions in /usr/local/lib/python3.7/dist-packages (from kiwisolver>=1.0.1->matplotlib->filterpy==1.1.0) (4.1.1)\n",
            "Requirement already satisfied: six>=1.5 in /usr/local/lib/python3.7/dist-packages (from python-dateutil>=2.1->matplotlib->filterpy==1.1.0) (1.15.0)\n",
            "Building wheels for collected packages: filterpy\n",
            "  Building wheel for filterpy (setup.py) ... \u001b[?25l\u001b[?25hdone\n",
            "  Created wheel for filterpy: filename=filterpy-1.1.0-py3-none-any.whl size=85439 sha256=e357b6534701bba594e570a8c2e6b528db123424ff1c6cbed4f1b9342e4868ea\n",
            "  Stored in directory: /root/.cache/pip/wheels/5d/d1/d9/25c124a78a122e9d3b4d9c99daef4f818be8026ace6155de33\n",
            "Successfully built filterpy\n",
            "Installing collected packages: filterpy\n",
            "Successfully installed filterpy-1.1.0\n"
          ]
        }
      ]
    },
    {
      "cell_type": "code",
      "source": [
        ""
      ],
      "metadata": {
        "colab": {
          "base_uri": "https://localhost:8080/"
        },
        "id": "fSgSthDKcOUo",
        "outputId": "32f43d20-f842-48bf-fbd7-03132e45f1aa"
      },
      "execution_count": 27,
      "outputs": [
        {
          "output_type": "stream",
          "name": "stdout",
          "text": [
            "/content/car-counting-and-speed-estimation-yolo-sort-python/code_and_output\n"
          ]
        }
      ]
    },
    {
      "cell_type": "code",
      "source": [
        "!python3 main.py --input '/content/Automathon-challenge-CV.mp4' --output '/content/output.mp4' --yolo '/content/car-counting-and-speed-estimation-yolo-sort-python/yolo' "
      ],
      "metadata": {
        "colab": {
          "base_uri": "https://localhost:8080/"
        },
        "id": "WP2O6VfncMdv",
        "outputId": "dc17bb32-c25d-4160-d033-46094ea61588"
      },
      "execution_count": 34,
      "outputs": [
        {
          "output_type": "stream",
          "name": "stdout",
          "text": [
            "[INFO] loading YOLO from disk...\n",
            "Traceback (most recent call last):\n",
            "  File \"main.py\", line 130, in <module>\n",
            "    net = cv2.dnn.readNetFromDarknet(configPath, weightsPath)\n",
            "cv2.error: OpenCV(4.1.2) /io/opencv/modules/dnn/src/darknet/darknet_importer.cpp:214: error: (-212:Parsing error) Failed to parse NetParameter file: /content/car-counting-and-speed-estimation-yolo-sort-python/yolo/yolov3.weights in function 'readNetFromDarknet'\n",
            "\n"
          ]
        }
      ]
    }
  ]
}